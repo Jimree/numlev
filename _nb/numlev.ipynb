{
 "cells": [
  {
   "cell_type": "code",
   "execution_count": 14,
   "metadata": {},
   "outputs": [
    {
     "name": "stdout",
     "output_type": "stream",
     "text": [
      "1.16.4\n"
     ]
    }
   ],
   "source": [
    "import numpy as np\n",
    "import numpy.linalg as lin\n",
    "print(np.version.full_version)\n",
    "from scipy import linalg\n",
    "import sol"
   ]
  },
  {
   "cell_type": "markdown",
   "metadata": {},
   "source": [
    "## Lebegőpontos számok\n",
    "$$\n",
    "x=\\pm 2^k \\left(1+\\frac{x_1}{2}+\\frac{x_2}{2^2}+\\ldots+\\frac{x_t}{2^t} \\right)\\ \\ \\ x_i \\in \\{0,1\\}\n",
    "$$\n",
    "ahol $k_- \\le k \\le k_+$ és $t>0$ egész számok a rendszer paraméterei.\n",
    "\n",
    "### Konstansok\n",
    "\n",
    "$$ \n",
    "\\varepsilon_{0}=2^{k_{-}} \n",
    "$$\n",
    "\n",
    "\n",
    "\n",
    "$$ \n",
    "M_{\\infty}=2^{k_{+}}\\left(2-\\frac{1}{2^t}\\right) \n",
    "$$\n",
    "\n",
    "\n",
    "$$ \n",
    "\\varepsilon_1 = 2^{-t}\n",
    "$$\n",
    "\n",
    "Az 64-bites lebegőpontos számoknál (double precision): $ 1,11,52 $ bit van az előjelre, a $k_{-},k_{+}$-nak megfelelő tartományra illetve a jegyekre ($x_i$) $\\hskip 0.5cm$\n",
    "Bővebben: [wiki-double](https://en.wikipedia.org/wiki/Double-precision_floating-point_format)\n",
    "\n",
    "\n",
    "### Relatív hiba\n",
    "Legyen $x=2^k 1.x_1\\ldots x_t x_{t+1}\\ldots$\n",
    "$$ \n",
    "\\frac{| x-fl(x)|}{|x|}\\le \\frac{2^{k-t-1}}{|x|}\\le \\frac{2^{k-t-1}}{2^k}=\\frac{\\varepsilon_1}{2} \n",
    "$$\n",
    "ha a közelebbi lebegőpontos számhoz kerekít a gép. "
   ]
  },
  {
   "cell_type": "code",
   "execution_count": 7,
   "metadata": {},
   "outputs": [
    {
     "name": "stdout",
     "output_type": "stream",
     "text": [
      "11 52\n",
      "2.2250738585072014e-308 True\n",
      "1.7976931348623157e+308 True\n",
      "2.220446049250313e-16 True\n"
     ]
    }
   ],
   "source": [
    "info=np.finfo(np.float64)\n",
    "print(info.nexp,info.nmant)\n",
    "#legkisebb\n",
    "print(info.tiny,info.tiny==2**-1022)\n",
    "# legnagyobb\n",
    "print(info.max,info.max==2**1023*(2-1/2**52))\n",
    "# 1 és a jobboldali szomszedja tavolsaga\n",
    "print(info.eps,info.eps==2**(-52))\n"
   ]
  },
  {
   "cell_type": "markdown",
   "metadata": {},
   "source": [
    "### Feladat\n",
    "1. Határozd meg kísérletileg az $\\varepsilon_1$ értékét!\n",
    "1. Határozd meg kísérletileg az $\\varepsilon_0$ értékét!\n"
   ]
  },
  {
   "cell_type": "markdown",
   "metadata": {},
   "source": [
    "## Norma\n",
    "Jele $\\Vert x\\Vert$ (iksznorma). \n",
    "\n",
    "### Tulajdonságok:\n",
    "1. $\\Vert x\\Vert \\ge 0$, \n",
    "1. $\\Vert x\\Vert =0 \\iff x=0$\n",
    "1. $\\Vert \\alpha x\\Vert =|\\alpha| \\Vert x\\Vert $\n",
    "1. $\\Vert x+y\\Vert \\le \\Vert x\\Vert +\\Vert y\\Vert $ \n",
    "<br>\n",
    "\n",
    "### Példák:\n",
    "\n",
    "1. $\\Vert x\\Vert_{1}=\\sum |x_k|$\n",
    "1. $\\Vert x\\Vert_{2}=\\sqrt{\\sum |x_k|^2}$\n",
    "1. $\\Vert x\\Vert_{\\infty}=\\max |x_k|$\n",
    "\n",
    "### Feladat:\n",
    "1. Írjunk egy olyan függvényt mely kiszámolja egy paraméterül kapott vektor fenti normáit.\n",
    "\n",
    "### Négyzetes mátrixok normája:\n",
    "Legyen $\\Vert.\\Vert_v$ egy vektornorma. Ekkor:\n",
    "\n",
    "$$\n",
    "\\Vert A\\Vert_v=\\sup_{x\\neq 0}\\frac{\\Vert Ax\\Vert_v}{\\Vert x\\Vert_v}\n",
    "=\\max_{x\\neq 0}\\frac{\\Vert Ax\\Vert_v}{\\Vert x\\Vert_v}=\\max_{\\Vert x\\Vert_v=1}\\Vert Ax\\Vert_v\n",
    "$$\n",
    "\n",
    "1. Ez a $\\Vert.\\Vert_v$ által indukált mátrixnorma.\n",
    "1. $\\Vert E\\Vert=1$\n",
    "1. $\\Vert AB\\Vert\\le \\Vert A\\Vert \\Vert B\\Vert$\n",
    "A:\n",
    "\n",
    "### Számolási szabályok mátrixnormára:\n",
    "\n",
    "1. $\\Vert A\\Vert_1=\\max_j \\sum_i a_{ij}$\n",
    "1. $\\Vert A\\Vert_{\\infty}=\\max_i \\sum_j a_{ij}$\n",
    "1. $\\Vert A\\Vert_2=\\sqrt{\\lambda_{max}(A^T A)}$\n",
    "\n",
    "### Feladat\n",
    "1. Írjunk egy függvényt mely kiszámolja egy paraméterül kapott mátrix $1$ és $\\infty$ normáját:"
   ]
  },
  {
   "cell_type": "code",
   "execution_count": 8,
   "metadata": {},
   "outputs": [
    {
     "name": "stdout",
     "output_type": "stream",
     "text": [
      "(6, 7)\n",
      "(17, 18)\n"
     ]
    }
   ],
   "source": [
    "for A in ([[1,2],[3,4]], [[0,-2,1],[11,-3,4],[6,-2,2]]):\n",
    "    print(sol.matrixnorma(A))"
   ]
  },
  {
   "cell_type": "markdown",
   "metadata": {},
   "source": [
    "### Hiba a lineáris egyenletrendszer jobboldalában - kondíciószám\n",
    "\\begin{gather}\n",
    "Ax =b \\\\\n",
    "A(x+\\delta x)=b+\\delta b \\ \\ \\implies \\\\\n",
    "\\frac{\\frac{\\Vert \\delta x\\Vert}{\\Vert x\\Vert}}{\\frac{\\Vert \\delta b\\Vert}{\\Vert b\\Vert}} =\n",
    "\\frac{\\Vert A^{-1}(\\delta b)\\Vert }{\\Vert\\delta b\\Vert} \\frac{\\Vert Ax\\Vert }{\\Vert x\\Vert}\\le \n",
    "\\Vert A^{-1}\\Vert \\Vert A\\Vert=cond(A)\n",
    "\\end{gather}\n",
    "\n",
    "A kondíciószám: hányszoros szorzóval jelenhet meg a jobboldal hibája a megoldásban. (legrosszabb eset)\n",
    "\n",
    "\n",
    "### Feladat\n",
    "Oldjuk meg \"kézzel\" az alábbi egyenletrendszereket - hasonlítsuk össze a megoldásokat. Számoljuk ki a mátrix kondíciószámát.\n",
    "$$\n",
    "\\begin{bmatrix}\n",
    "1\\ \\ 1 \\\\\n",
    "1\\ 1.0001\n",
    "\\end{bmatrix}\n",
    "\\begin{bmatrix}\n",
    "x \\\\\n",
    "y\n",
    "\\end{bmatrix} =\n",
    "\\begin{bmatrix}\n",
    "2 \\\\\n",
    "2\n",
    "\\end{bmatrix}\n",
    "$$\n",
    "$$\n",
    "\\begin{bmatrix}\n",
    "1\\ \\ 1 \\\\\n",
    "1\\ 1.0001\n",
    "\\end{bmatrix}\n",
    "\\begin{bmatrix}\n",
    "x \\\\\n",
    "y\n",
    "\\end{bmatrix} =\n",
    "\\begin{bmatrix}\n",
    "2 \\\\\n",
    "2.0001\n",
    "\\end{bmatrix}\n",
    "$$\n",
    "\n",
    "Megoldás numpy-val:"
   ]
  },
  {
   "cell_type": "code",
   "execution_count": 9,
   "metadata": {},
   "outputs": [
    {
     "name": "stdout",
     "output_type": "stream",
     "text": [
      "x0= [2. 0.] x1= [1. 1.]\n",
      "40000.0000000044 40004.0001000044\n"
     ]
    }
   ],
   "source": [
    "A=np.array([[1,1],[1,1.0001]])\n",
    "b0=np.array([2,2])\n",
    "b1=np.array([2,2.0001])\n",
    "x0=lin.solve(A,b0)\n",
    "x1=lin.solve(A,b1)\n",
    "print('x0=',x0,'x1=',x1)\n",
    "relhx=lin.norm(x0-x1,1)/lin.norm(x0,1)\n",
    "relhb=lin.norm(b0-b1,1)/lin.norm(b0,1)\n",
    "változás=relhx/relhb\n",
    "print(változás,lin.cond(A,1))"
   ]
  },
  {
   "cell_type": "markdown",
   "metadata": {},
   "source": [
    "## LU-felbontás\n",
    "\n",
    "Lineáris egyenletrendszer megoldását visszavezethetjük egyváltozós egyenletek megoldásának sorozatára. Ehhez a rendszert fokozatosan egyszerűsítjük, bizonyos egyenletekből kiküszöbölünk bizonyos változókat. Ez a Gauss-elimináció.\n",
    "\n",
    "### Bővebben: [lineáris egyenletrendszerek](https://arato.inf.unideb.hu/noszaly.csaba/numen/2019/03_sle/03_sle.pdf)\n",
    "\n",
    "### Feladat:\n",
    "Írjunk egy függvényt mely egy paraméterül kapott mátrix $LU$ felbontását adja vissza, ha létezik egyébként ```None```-t "
   ]
  },
  {
   "cell_type": "code",
   "execution_count": 15,
   "metadata": {},
   "outputs": [
    {
     "name": "stdout",
     "output_type": "stream",
     "text": [
      "[[ 1  2]\n",
      " [ 3 -2]] (array([[0., 1.],\n",
      "       [1., 0.]]), array([[1.        , 0.        ],\n",
      "       [0.33333333, 1.        ]]), array([[3.        , 4.        ],\n",
      "       [0.        , 0.66666667]]))\n",
      "[[ 1 -2  1]\n",
      " [11 19 -7]\n",
      " [ 6  0 -4]] (array([[0., 1., 0.],\n",
      "       [1., 0., 0.],\n",
      "       [0., 0., 1.]]), array([[1.        , 0.        , 0.        ],\n",
      "       [0.09090909, 1.        , 0.        ],\n",
      "       [0.54545455, 0.21052632, 1.        ]]), array([[11.        , -3.        ,  4.        ],\n",
      "       [ 0.        , -1.72727273,  0.63636364],\n",
      "       [ 0.        ,  0.        , -0.31578947]]))\n"
     ]
    }
   ],
   "source": [
    "for A in ([[1,2],[3,4]], [[1,-2,1],[11,-3,4],[6,-2,2]]):\n",
    "    print(sol.lu(A), linalg.lu(A))\n",
    "    "
   ]
  },
  {
   "cell_type": "markdown",
   "metadata": {},
   "source": [
    "## Cholesky-felbontás\n",
    "\n",
    "Ha a mátrix speciális pl. szimmetrikus vagy egyéb rendezettséget mutat akkor amint várható speciális algoritmusokkal lehet megoldani a kapcsolódó egyenletrendszert.\n",
    "Legyen $A$ egy szimmetrikus pozitív definit mátrix. Ekkor létezik egy $Q$ alsó-háromszög mátrix, mellyel $A=QQ^T$. Ez a Cholesky-felbontás."
   ]
  },
  {
   "cell_type": "code",
   "execution_count": null,
   "metadata": {},
   "outputs": [],
   "source": []
  },
  {
   "cell_type": "code",
   "execution_count": null,
   "metadata": {},
   "outputs": [],
   "source": []
  }
 ],
 "metadata": {
  "kernelspec": {
   "display_name": "Python 3",
   "language": "python",
   "name": "python3"
  },
  "language_info": {
   "codemirror_mode": {
    "name": "ipython",
    "version": 3
   },
   "file_extension": ".py",
   "mimetype": "text/x-python",
   "name": "python",
   "nbconvert_exporter": "python",
   "pygments_lexer": "ipython3",
   "version": "3.7.3"
  }
 },
 "nbformat": 4,
 "nbformat_minor": 2
}
